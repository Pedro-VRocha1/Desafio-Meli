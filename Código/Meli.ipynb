{
  "nbformat": 4,
  "nbformat_minor": 0,
  "metadata": {
    "colab": {
      "cell_execution_strategy": "setup",
      "provenance": [],
      "name": "Meli"
    },
    "kernelspec": {
      "name": "python3",
      "display_name": "Python 3"
    },
    "language_info": {
      "name": "python"
    }
  },
  "cells": [
    {
      "cell_type": "markdown",
      "source": [
        "# Imports"
      ],
      "metadata": {
        "id": "rAvhckmQsytK"
      }
    },
    {
      "cell_type": "code",
      "source": [
        "import requests\n",
        "import json\n",
        "import pandas as pd\n",
        "from google.cloud import bigquery\n",
        "from google.cloud.exceptions import NotFound\n",
        "import io\n",
        "import csv\n",
        "import time"
      ],
      "metadata": {
        "id": "odXKjCFcddYz"
      },
      "execution_count": null,
      "outputs": []
    },
    {
      "cell_type": "markdown",
      "source": [
        "# Configurações da API"
      ],
      "metadata": {
        "id": "ZqGcsPqDs2Za"
      }
    },
    {
      "cell_type": "code",
      "source": [
        "# Configurações\n",
        "BASE_URL = \"http://api.worldbank.org/v2/country\"\n",
        "PER_PAGE = \"20000\"\n",
        "\n",
        "# Dicionário de indicadores\n",
        "INDICATORS = {\n",
        "    \"dimen_intrnt_users\": \"IT.NET.USER.ZS\",\n",
        "    \"dimen_fixed_broadband_users\": \"IT.NET.BBND.P2\",\n",
        "    \"dimen_cellphone_users\": \"IT.CEL.SETS.P2\",\n",
        "    \"dimen_secure_internet_servers\": \"IT.NET.SECR.P6\",\n",
        "    \"dimen_tic_export\": \"BX.GSR.CCIS.CD\",\n",
        "    \"dimen_cntry_pop\": \"SP.POP.TOTL\",\n",
        "    \"dimen_cntry_pib\": \"NY.GDP.PCAP.CD\",\n",
        "    \"dimen_mrkt_stck_rtrn\": \"GFDD.OM.02\"\n",
        "}"
      ],
      "metadata": {
        "id": "7O_5ifvwxPg-"
      },
      "execution_count": null,
      "outputs": []
    },
    {
      "cell_type": "markdown",
      "source": [
        "# Funções"
      ],
      "metadata": {
        "id": "TdXj4FN7s66l"
      }
    },
    {
      "cell_type": "code",
      "source": [
        "def get_world_bank_countries():\n",
        "    countries_data = []\n",
        "    base_url = \"https://api.worldbank.org/v2/country\"\n",
        "    params = {\n",
        "        \"format\": \"json\",\n",
        "        \"per_page\": 300\n",
        "    }\n",
        "\n",
        "    try:\n",
        "        response = requests.get(base_url, params=params, timeout=30)\n",
        "        response.raise_for_status()\n",
        "        data = response.json()\n",
        "\n",
        "        current_countries = data\n",
        "\n",
        "        for country in current_countries:\n",
        "            processed_country = {\n",
        "                \"country_id\": country.get(\"id\"),\n",
        "                \"country_name\": country.get(\"name\"),\n",
        "                \"region_id\": country.get(\"region\", {}).get(\"id\"),\n",
        "                \"region_value\": country.get(\"region\", {}).get(\"value\"),\n",
        "                \"admin_region_id\": country.get(\"adminregion\", {}).get(\"id\"),\n",
        "                \"admin_region_value\": country.get(\"adminregion\", {}).get(\"value\"),\n",
        "                \"income_level_id\": country.get(\"incomeLevel\", {}).get(\"id\"),\n",
        "                \"income_level_value\": country.get(\"incomeLevel\", {}).get(\"value\") ,\n",
        "                \"lending_type_id\": country.get(\"lendingType\", {}).get(\"id\") ,\n",
        "                \"lending_type_value\": country.get(\"lendingType\", {}).get(\"value\"),\n",
        "                \"capital_city\": country.get(\"capitalCity\"),\n",
        "                \"longitude\": country.get(\"longitude\"),\n",
        "                \"latitude\": country.get(\"latitude\")\n",
        "            }\n",
        "            countries_data.append(processed_country)\n",
        "\n",
        "    except requests.exceptions.RequestException as e:\n",
        "        print(f\" -> Erro ao buscar dados da API do Banco Mundial: {e}\")\n",
        "        return []\n",
        "    except ValueError as e:\n",
        "        print(f\" -> Erro ao decodificar JSON da API: {e}\")\n",
        "        return []\n",
        "    except Exception as e:\n",
        "        print(f\" -> Um erro inesperado ocorreu ao buscar países: {e}\")\n",
        "        return []\n",
        "\n",
        "    print(f\"Total de {len(countries_data)} informações de países/regiões agregadas encontradas na primeira página.\")\n",
        "    return countries_data\n",
        "\n",
        "\n",
        "def fetch_indicator_data(indicator_code, indicator_name_friendly):\n",
        "    url = f\"{BASE_URL}/all/indicator/{indicator_code}\"\n",
        "    params = {\n",
        "        \"format\": \"json\",\n",
        "        \"per_page\": PER_PAGE\n",
        "    }\n",
        "    print(f\"  Buscando: {indicator_name_friendly} ({indicator_code})... URL: {requests.Request('GET', url, params=params).prepare().url}\")\n",
        "\n",
        "    try:\n",
        "        response = requests.get(url, params=params, timeout=45)\n",
        "        response.raise_for_status()\n",
        "        data = response.json()\n",
        "\n",
        "        if not data or len(data) < 2 or data[1] is None:\n",
        "            print(f\"  -> Dados não encontrados ou formato inesperado para o indicador {indicator_code}.\")\n",
        "            return []\n",
        "\n",
        "        processed_data = []\n",
        "        for record in data[1]:\n",
        "            processed_data.append({\n",
        "                \"year\": record.get('date'),\n",
        "                \"ind_value\": record.get('value'),\n",
        "                \"ind_id\": record.get('indicator', {}).get('id'),\n",
        "                \"ind_name\": record.get('indicator', {}).get('value'),\n",
        "                \"cntry_id\": record.get('countryiso3code'),\n",
        "                \"cntry_name\": record.get('country', {}).get('value')\n",
        "            })\n",
        "\n",
        "        processed_data.sort(key=lambda x: x['year'])\n",
        "        if processed_data:\n",
        "            print(f\"  -> {len(processed_data)} registros encontrados para {indicator_name_friendly}.\")\n",
        "        else:\n",
        "            print(f\"  -> Nenhum registro com valor encontrado para {indicator_name_friendly}.\")\n",
        "        return processed_data\n",
        "\n",
        "    except requests.exceptions.Timeout:\n",
        "        print(f\"  Erro de Timeout ao buscar dados para {indicator_code}.\")\n",
        "        return []\n",
        "    except requests.exceptions.RequestException as e:\n",
        "        print(f\"  Erro na requisição para {indicator_code}: {e}\")\n",
        "        return []\n",
        "    except ValueError as e:\n",
        "        print(f\"  Erro ao decodificar JSON para {indicator_code}: {e}\")\n",
        "        return []\n",
        "\n",
        "def save_data_to_bigquery_table(data,\n",
        "                                table_name,\n",
        "                                dataset_id=\"raw\",\n",
        "                                project_id=\"learned-tube-459813-c5\",\n",
        "                                write_disposition=\"WRITE_TRUNCATE\"):\n",
        "    if not data:\n",
        "        print(\" -> Nenhum dado fornecido para salvar no BigQuery.\")\n",
        "        return\n",
        "\n",
        "    print(f\"Iniciando carregamento para BigQuery: {project_id or 'PROJETO_PADRAO'}.{dataset_id}.{table_name}...\")\n",
        "\n",
        "    try:\n",
        "        df = pd.DataFrame(data)\n",
        "\n",
        "        if df.empty:\n",
        "            print(f\" -> DataFrame vazio após conversão dos dados para a tabela '{table_name}'. Nada será salvo.\")\n",
        "            return\n",
        "\n",
        "        client = bigquery.Client(project=project_id)\n",
        "\n",
        "        if project_id:\n",
        "            table_id = f\"{project_id}.{dataset_id}.{table_name}\"\n",
        "        else:\n",
        "            table_id = f\"{client.project}.{dataset_id}.{table_name}\"\n",
        "            print(f\"    (Usando projeto inferido: {client.project})\")\n",
        "\n",
        "\n",
        "        job_config = bigquery.LoadJobConfig(\n",
        "            autodetect=True,\n",
        "            write_disposition=write_disposition,\n",
        "        )\n",
        "\n",
        "        job = client.load_table_from_dataframe(\n",
        "            df, table_id, job_config=job_config\n",
        "        )\n",
        "        job.result()\n",
        "\n",
        "        table = client.get_table(table_id)\n",
        "        print(\n",
        "            f\" -> Dados carregados com sucesso para a tabela '{table_id}'. \"\n",
        "            f\"Total de linhas: {table.num_rows}\"\n",
        "        )\n",
        "\n",
        "    except ImportError:\n",
        "        print(\" -> Erro de importação: Verifique se pandas e google-cloud-bigquery estão instalados.\")\n",
        "    except NotFound as e:\n",
        "        print(f\" -> Erro: Dataset '{dataset_id}' (ou projeto) não encontrado ou sem permissão: {e}\")\n",
        "    except Exception as e:\n",
        "        print(f\" -> Um erro inesperado ocorreu ao carregar dados para '{table_name}' no BigQuery: {e}\")\n"
      ],
      "metadata": {
        "id": "WIK_fl1Gpro8"
      },
      "execution_count": null,
      "outputs": []
    },
    {
      "cell_type": "markdown",
      "source": [
        "# Execução"
      ],
      "metadata": {
        "id": "X2a3Km09tBXM"
      }
    },
    {
      "cell_type": "code",
      "source": [
        "if __name__ == \"__main__\":\n",
        "    total_indicators = len(INDICATORS)\n",
        "\n",
        "    countries_data = get_world_bank_countries()\n",
        "    save_data_to_bigquery_table(countries_data,\"dimen_info_countries\")\n",
        "\n",
        "    print(\"-\" * 40)\n",
        "\n",
        "    for i, (friendly_name, indicator_code) in enumerate(INDICATORS.items()):\n",
        "        print(f\"Processando indicador {i+1} de {total_indicators}: {friendly_name}\")\n",
        "        indicator_data = fetch_indicator_data(indicator_code, friendly_name)\n",
        "        if indicator_data:\n",
        "            save_data_to_bigquery_table(indicator_data, friendly_name)\n",
        "\n",
        "        if i < total_indicators - 1:\n",
        "            time.sleep(1)\n",
        "        print(\"-\" * 40)"
      ],
      "metadata": {
        "colab": {
          "base_uri": "https://localhost:8080/"
        },
        "id": "B7t02EZ-xMAc",
        "outputId": "0c52da4d-e3ac-42ff-83c2-d9cbb8cc3349"
      },
      "execution_count": null,
      "outputs": [
        {
          "output_type": "stream",
          "name": "stdout",
          "text": [
            " -> Processando 296 registros da página 1 (total de páginas na API: 1).\n",
            "Total de 296 informações de países/regiões agregadas encontradas na primeira página.\n",
            "Iniciando carregamento para BigQuery: learned-tube-459813-c5.raw.dimen_info_countries...\n",
            " -> Dados carregados com sucesso para a tabela 'learned-tube-459813-c5.raw.dimen_info_countries'. Total de linhas: 296\n",
            "----------------------------------------\n",
            "Processando indicador 1 de 8: dimen_intrnt_users\n",
            "  Buscando: dimen_intrnt_users (IT.NET.USER.ZS)... URL: http://api.worldbank.org/v2/country/all/indicator/IT.NET.USER.ZS?format=json&per_page=20000\n",
            "  -> 17290 registros encontrados para dimen_intrnt_users.\n",
            "Iniciando carregamento para BigQuery: learned-tube-459813-c5.raw.dimen_intrnt_users...\n",
            " -> Dados carregados com sucesso para a tabela 'learned-tube-459813-c5.raw.dimen_intrnt_users'. Total de linhas: 17290\n",
            "----------------------------------------\n",
            "Processando indicador 2 de 8: dimen_fixed_broadband_users\n",
            "  Buscando: dimen_fixed_broadband_users (IT.NET.BBND.P2)... URL: http://api.worldbank.org/v2/country/all/indicator/IT.NET.BBND.P2?format=json&per_page=20000\n",
            "  -> 17290 registros encontrados para dimen_fixed_broadband_users.\n",
            "Iniciando carregamento para BigQuery: learned-tube-459813-c5.raw.dimen_fixed_broadband_users...\n",
            " -> Dados carregados com sucesso para a tabela 'learned-tube-459813-c5.raw.dimen_fixed_broadband_users'. Total de linhas: 17290\n",
            "----------------------------------------\n",
            "Processando indicador 3 de 8: dimen_cellphone_users\n",
            "  Buscando: dimen_cellphone_users (IT.CEL.SETS.P2)... URL: http://api.worldbank.org/v2/country/all/indicator/IT.CEL.SETS.P2?format=json&per_page=20000\n",
            "  -> 17290 registros encontrados para dimen_cellphone_users.\n",
            "Iniciando carregamento para BigQuery: learned-tube-459813-c5.raw.dimen_cellphone_users...\n",
            " -> Dados carregados com sucesso para a tabela 'learned-tube-459813-c5.raw.dimen_cellphone_users'. Total de linhas: 17290\n",
            "----------------------------------------\n",
            "Processando indicador 4 de 8: dimen_secure_internet_servers\n",
            "  Buscando: dimen_secure_internet_servers (IT.NET.SECR.P6)... URL: http://api.worldbank.org/v2/country/all/indicator/IT.NET.SECR.P6?format=json&per_page=20000\n",
            "  -> 17290 registros encontrados para dimen_secure_internet_servers.\n",
            "Iniciando carregamento para BigQuery: learned-tube-459813-c5.raw.dimen_secure_internet_servers...\n",
            " -> Dados carregados com sucesso para a tabela 'learned-tube-459813-c5.raw.dimen_secure_internet_servers'. Total de linhas: 17290\n",
            "----------------------------------------\n",
            "Processando indicador 5 de 8: dimen_tic_export\n",
            "  Buscando: dimen_tic_export (BX.GSR.CCIS.CD)... URL: http://api.worldbank.org/v2/country/all/indicator/BX.GSR.CCIS.CD?format=json&per_page=20000\n",
            "  -> 17290 registros encontrados para dimen_tic_export.\n",
            "Iniciando carregamento para BigQuery: learned-tube-459813-c5.raw.dimen_tic_export...\n",
            " -> Dados carregados com sucesso para a tabela 'learned-tube-459813-c5.raw.dimen_tic_export'. Total de linhas: 17290\n",
            "----------------------------------------\n",
            "Processando indicador 6 de 8: dimen_cntry_pop\n",
            "  Buscando: dimen_cntry_pop (SP.POP.TOTL)... URL: http://api.worldbank.org/v2/country/all/indicator/SP.POP.TOTL?format=json&per_page=20000\n",
            "  -> 17290 registros encontrados para dimen_cntry_pop.\n",
            "Iniciando carregamento para BigQuery: learned-tube-459813-c5.raw.dimen_cntry_pop...\n",
            " -> Dados carregados com sucesso para a tabela 'learned-tube-459813-c5.raw.dimen_cntry_pop'. Total de linhas: 17290\n",
            "----------------------------------------\n",
            "Processando indicador 7 de 8: dimen_cntry_pib\n",
            "  Buscando: dimen_cntry_pib (NY.GDP.PCAP.CD)... URL: http://api.worldbank.org/v2/country/all/indicator/NY.GDP.PCAP.CD?format=json&per_page=20000\n",
            "  -> 17290 registros encontrados para dimen_cntry_pib.\n",
            "Iniciando carregamento para BigQuery: learned-tube-459813-c5.raw.dimen_cntry_pib...\n",
            " -> Dados carregados com sucesso para a tabela 'learned-tube-459813-c5.raw.dimen_cntry_pib'. Total de linhas: 17290\n",
            "----------------------------------------\n",
            "Processando indicador 8 de 8: dimen_mrkt_stck_rtrn\n",
            "  Buscando: dimen_mrkt_stck_rtrn (GFDD.OM.02)... URL: http://api.worldbank.org/v2/country/all/indicator/GFDD.OM.02?format=json&per_page=20000\n",
            "  -> 13950 registros encontrados para dimen_mrkt_stck_rtrn.\n",
            "Iniciando carregamento para BigQuery: learned-tube-459813-c5.raw.dimen_mrkt_stck_rtrn...\n",
            " -> Dados carregados com sucesso para a tabela 'learned-tube-459813-c5.raw.dimen_mrkt_stck_rtrn'. Total de linhas: 13950\n",
            "----------------------------------------\n"
          ]
        }
      ]
    }
  ]
}